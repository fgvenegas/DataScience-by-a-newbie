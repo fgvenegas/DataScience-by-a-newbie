{
 "cells": [
  {
   "cell_type": "code",
   "execution_count": 3,
   "metadata": {
    "collapsed": true
   },
   "outputs": [],
   "source": [
    "import tensorflow as tf"
   ]
  },
  {
   "cell_type": "markdown",
   "metadata": {
    "collapsed": true
   },
   "source": [
    "### Constant"
   ]
  },
  {
   "cell_type": "code",
   "execution_count": 10,
   "metadata": {
    "collapsed": false
   },
   "outputs": [],
   "source": [
    "const = tf.constant('Hello World!')"
   ]
  },
  {
   "cell_type": "markdown",
   "metadata": {},
   "source": [
    "### Placeholder\n",
    "\n",
    "Se inicializa vacio, a diferencia de Constant y Variable que parten con un valor"
   ]
  },
  {
   "cell_type": "code",
   "execution_count": 12,
   "metadata": {
    "collapsed": true
   },
   "outputs": [],
   "source": [
    "place_1 = tf.placeholder(tf.int16)\n",
    "place_2 = tf.placeholder(tf.int16)"
   ]
  },
  {
   "cell_type": "code",
   "execution_count": 13,
   "metadata": {
    "collapsed": true
   },
   "outputs": [],
   "source": [
    "add = tf.add(place_1, place_2)"
   ]
  },
  {
   "cell_type": "markdown",
   "metadata": {},
   "source": [
    "### Session"
   ]
  },
  {
   "cell_type": "code",
   "execution_count": 16,
   "metadata": {
    "collapsed": false
   },
   "outputs": [
    {
     "name": "stdout",
     "output_type": "stream",
     "text": [
      "b'Hello World!'\n",
      "5\n"
     ]
    }
   ],
   "source": [
    "with tf.Session() as sess:\n",
    "    print(sess.run(const))\n",
    "    print(sess.run(add, feed_dict={place_1: 2, place_2: 3}))"
   ]
  },
  {
   "cell_type": "markdown",
   "metadata": {},
   "source": [
    "## Deep Learning\n",
    "\n",
    "La idea de una red neuronal es similar a la de una regresion lineal, tenemos y = Wx + b, donde\n",
    "\n",
    "\n",
    "\n",
    "\\begin{align}\n",
    "W &= Weight \\\\ b &= bias \\\\ x &= data \\\\ y &= neuron\n",
    "\\end{align}\n",
    "\n",
    "Donde ademas cada neurona recibe la multiplicacion de cada neurona de la capa anterior por un peso + bias y realiza una función de activación\n"
   ]
  },
  {
   "cell_type": "markdown",
   "metadata": {},
   "source": [
    "## Linear Neuron\n",
    "<img src=\"https://jalammar.github.io/images/NNs_bias_2.png\",width=500,height=500>\n",
    "\n",
    "## Multilayer Perceptron\n",
    "\n",
    "<img src=\"http://www.mdpi.com/information/information-03-00756/article_deploy/html/images/information-03-00756-g002-1024.png\",width=500,height=500>"
   ]
  },
  {
   "cell_type": "markdown",
   "metadata": {},
   "source": [
    "### Multiplicacion de matrices"
   ]
  },
  {
   "cell_type": "markdown",
   "metadata": {},
   "source": [
    "En el siguiente ejemplo:\n",
    "\n",
    "**mat_1** es una matriz de 1x3 que representa a 3pixeles de una imagen\n",
    "\n",
    "**mat_2** es una matriz de 3x4 corresponde a la matriz de pesos \n",
    "\n",
    "Vamos a considerar un input de 3 pixeles que van a una hidden layer de 4 neuronas, entonces cada pixel se multiplicara por 4 \"pesos\" distintos, uno para cada cada neurona de la hidden layer, cada neurona suma los resultados de la multiplicación + el bias, y le aplica la función de activación\n",
    "\n",
    "**El resultado** de la mutliplicación de **mat_1** y **mat_2** dara origen a la primera hidden layer, que es una capa de 1x4 neuronas"
   ]
  },
  {
   "cell_type": "code",
   "execution_count": 32,
   "metadata": {
    "collapsed": true
   },
   "outputs": [],
   "source": [
    "import numpy as np"
   ]
  },
  {
   "cell_type": "code",
   "execution_count": 47,
   "metadata": {
    "collapsed": false
   },
   "outputs": [],
   "source": [
    "mat_1 = np.matrix([1,2,3])\n",
    "mat_2 = np.matrix([[1,2,3,4], [5,6,7,8], [9,10,11,12]])"
   ]
  },
  {
   "cell_type": "code",
   "execution_count": 53,
   "metadata": {
    "collapsed": false
   },
   "outputs": [
    {
     "name": "stdout",
     "output_type": "stream",
     "text": [
      "Pixeles       (1, 3)\n",
      "W             (3, 4)\n",
      "Pixeles x W   (1, 4)\n"
     ]
    }
   ],
   "source": [
    "print(\"Pixeles      \", mat_1.shape)\n",
    "print(\"W            \", mat_2.shape)\n",
    "print(\"Pixeles x W  \", mat_1.dot(mat_2).shape)"
   ]
  },
  {
   "cell_type": "code",
   "execution_count": 54,
   "metadata": {
    "collapsed": false
   },
   "outputs": [
    {
     "data": {
      "text/plain": [
       "matrix([[38, 44, 50, 56]])"
      ]
     },
     "execution_count": 54,
     "metadata": {},
     "output_type": "execute_result"
    }
   ],
   "source": [
    "mat_1.dot(mat_2) "
   ]
  },
  {
   "cell_type": "markdown",
   "metadata": {},
   "source": [
    "### MLP en Tensorflow"
   ]
  },
  {
   "cell_type": "code",
   "execution_count": null,
   "metadata": {
    "collapsed": false
   },
   "outputs": [],
   "source": [
    "# Import MINST data\n",
    "from tensorflow.examples.tutorials.mnist import input_data\n",
    "mnist = input_data.read_data_sets(\"MNIST_data/\", one_hot=True)"
   ]
  },
  {
   "cell_type": "code",
   "execution_count": 4,
   "metadata": {
    "collapsed": true
   },
   "outputs": [],
   "source": [
    "# Parameters\n",
    "\n",
    "learning_rate = 0.01\n",
    "n_epochs = 15\n",
    "batch_size = 100"
   ]
  },
  {
   "cell_type": "code",
   "execution_count": 5,
   "metadata": {
    "collapsed": true
   },
   "outputs": [],
   "source": [
    "# Layers\n",
    "\n",
    "n_hidden_1 = 256\n",
    "n_hidden_2 = 256\n",
    "input_layer = 784\n",
    "n_classes = 10\n",
    "x = tf.placeholder(\"float\", [None, input_layer])\n",
    "y = tf.placeholder(\"float\", [None, n_classes])"
   ]
  },
  {
   "cell_type": "code",
   "execution_count": 6,
   "metadata": {
    "collapsed": false
   },
   "outputs": [],
   "source": [
    "# Weights and bias\n",
    "\n",
    "weights = {\n",
    "    'w_layer1': tf.Variable(tf.random_normal([input_layer, n_hidden_1])),      # random_normal([dim, cantidad])\n",
    "    'w_layer2': tf.Variable(tf.random_normal([n_hidden_1, n_hidden_2])),\n",
    "    'output': tf.Variable(tf.random_normal([n_hidden_2, n_classes]))\n",
    "    \n",
    "}\n",
    "\n",
    "bias = {\n",
    "    'b_layer1': tf.Variable(tf.random_normal([n_hidden_1])),\n",
    "    'b_layer2': tf.Variable(tf.random_normal([n_hidden_2])),\n",
    "    'output': tf.Variable(tf.random_normal([n_classes]))\n",
    "}"
   ]
  },
  {
   "cell_type": "code",
   "execution_count": 7,
   "metadata": {
    "collapsed": false
   },
   "outputs": [],
   "source": [
    "def multilayer_perceptron(x, W, b):\n",
    "    \n",
    "    # Hidden layer 1\n",
    "    layer_1 = tf.add(tf.matmul(x, W['w_layer1']), b['b_layer1'])\n",
    "    layer_1 = tf.nn.relu(layer_1)\n",
    "    \n",
    "    # Hidden layer 2\n",
    "    layer_2 = tf.add(tf.matmul(layer_1, W['w_layer2']), b['b_layer2'])\n",
    "    layer_2 = tf.nn.relu(layer_2)\n",
    "    \n",
    "    # Output\n",
    "    output = tf.add(tf.matmul(layer_2, W['output']), b['output'])\n",
    "    \n",
    "    return output"
   ]
  },
  {
   "cell_type": "code",
   "execution_count": 12,
   "metadata": {
    "collapsed": false
   },
   "outputs": [],
   "source": [
    "# Nuestra red se encargara de predecir los pesos, pero debemos ajustarlos mediante la cost function o loss function\n",
    "# que representa la diferencia entre el valor real y el valor predecido (una forma de representar el error),\n",
    "# para eso utilizaremos un optimizador que se encargará de minimizar esta función de costo (es decir, minimizar el error)\n",
    "\n",
    "# Una medida de error al ser entrenada con un modelo para disminuirla se transforma en loss/cost function\n",
    "\n",
    "pred = multilayer_perceptron(x, weights, bias)\n",
    "\n",
    "cost = tf.reduce_sum(tf.nn.softmax_cross_entropy_with_logits(logits=pred, labels=y))\n",
    "\n",
    "optimizer = tf.train.AdamOptimizer(learning_rate=learning_rate).minimize(cost)\n"
   ]
  },
  {
   "cell_type": "code",
   "execution_count": 13,
   "metadata": {
    "collapsed": true
   },
   "outputs": [],
   "source": [
    "init = tf.initialize_all_variables()"
   ]
  },
  {
   "cell_type": "code",
   "execution_count": null,
   "metadata": {
    "collapsed": true
   },
   "outputs": [],
   "source": [
    "with tf.Session as sess:\n",
    "    sess.run(init)\n",
    "    \n",
    "    for epoch in range(n_epochs):\n",
    "        \n",
    "        # Por cada epoca calculamos la cantidad de batches que vamos a extraer de la data\n",
    "        avg = 0\n",
    "        number_of_batches = int(mnist.train.num_examples/batch_size)\n",
    "        \n",
    "        for batch in range(number_of_batches):\n",
    "            \n",
    "            # Por cada batch vamos a sacar esos trozos de data \n",
    "            batch_x, batch_y = mnist.train.next_batch(batch_size)\n",
    "            \n",
    "            # y corremos el algoritmos, por cada batch recalcula el costo\n",
    "            _, c= sess.run([optimizer, cost], feed_dict={x: batch_x, y: batch_y})\n",
    "            \n",
    "            avg_cost += c / total_batch\n",
    "            \n",
    "            # Al final de la epoca podemos mostrar el avg_cost calculado en la epoca\n"
   ]
  },
  {
   "cell_type": "code",
   "execution_count": null,
   "metadata": {
    "collapsed": true
   },
   "outputs": [],
   "source": [
    "# Test model\n",
    "correct_prediction = tf.equal(tf.argmax(pred, 1), tf.argmax(y, 1))\n",
    "# Calculate accuracy\n",
    "accuracy = tf.reduce_mean(tf.cast(correct_prediction, \"float\"))\n",
    "print \"Accuracy:\", accuracy.eval({x: mnist.test.images, y: mnist.test.labels})"
   ]
  },
  {
   "cell_type": "code",
   "execution_count": null,
   "metadata": {
    "collapsed": true
   },
   "outputs": [],
   "source": []
  }
 ],
 "metadata": {
  "kernelspec": {
   "display_name": "Python 3",
   "language": "python",
   "name": "python3"
  },
  "language_info": {
   "codemirror_mode": {
    "name": "ipython",
    "version": 3
   },
   "file_extension": ".py",
   "mimetype": "text/x-python",
   "name": "python",
   "nbconvert_exporter": "python",
   "pygments_lexer": "ipython3",
   "version": "3.5.2"
  }
 },
 "nbformat": 4,
 "nbformat_minor": 1
}
